{
 "cells": [
  {
   "cell_type": "code",
   "execution_count": 2,
   "id": "ba442013",
   "metadata": {},
   "outputs": [
    {
     "name": "stderr",
     "output_type": "stream",
     "text": [
      "[nltk_data] Downloading package stopwords to\n",
      "[nltk_data]     C:\\Users\\Anish\\AppData\\Roaming\\nltk_data...\n",
      "[nltk_data]   Package stopwords is already up-to-date!\n",
      "[nltk_data] Downloading package punkt to\n",
      "[nltk_data]     C:\\Users\\Anish\\AppData\\Roaming\\nltk_data...\n",
      "[nltk_data]   Package punkt is already up-to-date!\n",
      "[nltk_data] Downloading package omw-1.4 to\n",
      "[nltk_data]     C:\\Users\\Anish\\AppData\\Roaming\\nltk_data...\n",
      "[nltk_data]   Package omw-1.4 is already up-to-date!\n"
     ]
    }
   ],
   "source": [
    "import pandas as pd\n",
    "import numpy as np\n",
    "import nltk\n",
    "import re\n",
    "import emoji\n",
    "import matplotlib.pyplot as plt\n",
    "import sklearn\n",
    "from sklearn.metrics import confusion_matrix, accuracy_score, classification_report\n",
    "from wordcloud import WordCloud\n",
    "from nltk.stem import WordNetLemmatizer\n",
    "from nltk.corpus import stopwords\n",
    "from nltk.tokenize import word_tokenize\n",
    "from nltk.corpus import stopwords\n",
    "from nltk.stem import WordNetLemmatizer\n",
    "from nltk.corpus import wordnet\n",
    "nltk.download('stopwords');\n",
    "nltk.download('punkt');\n",
    "nltk.download('omw-1.4');\n",
    "from sklearn import metrics\n",
    "import unidecode\n",
    "import contractions\n",
    "%matplotlib inline\n",
    "\n"
   ]
  },
  {
   "cell_type": "code",
   "execution_count": 3,
   "id": "4d614e5f",
   "metadata": {},
   "outputs": [
    {
     "name": "stderr",
     "output_type": "stream",
     "text": [
      "[nltk_data] Downloading package wordnet to\n",
      "[nltk_data]     C:\\Users\\Anish\\AppData\\Roaming\\nltk_data...\n",
      "[nltk_data]   Package wordnet is already up-to-date!\n"
     ]
    },
    {
     "data": {
      "text/plain": [
       "True"
      ]
     },
     "execution_count": 3,
     "metadata": {},
     "output_type": "execute_result"
    }
   ],
   "source": [
    "import unidecode\n",
    "nltk.download('wordnet')"
   ]
  },
  {
   "cell_type": "code",
   "execution_count": 4,
   "id": "c4758694",
   "metadata": {},
   "outputs": [],
   "source": [
    "raw_tweets = pd.read_csv('./TrainingTwitterData.csv')"
   ]
  },
  {
   "cell_type": "code",
   "execution_count": 5,
   "id": "b7d18245",
   "metadata": {},
   "outputs": [
    {
     "data": {
      "text/html": [
       "<div>\n",
       "<style scoped>\n",
       "    .dataframe tbody tr th:only-of-type {\n",
       "        vertical-align: middle;\n",
       "    }\n",
       "\n",
       "    .dataframe tbody tr th {\n",
       "        vertical-align: top;\n",
       "    }\n",
       "\n",
       "    .dataframe thead th {\n",
       "        text-align: right;\n",
       "    }\n",
       "</style>\n",
       "<table border=\"1\" class=\"dataframe\">\n",
       "  <thead>\n",
       "    <tr style=\"text-align: right;\">\n",
       "      <th></th>\n",
       "      <th>Unnamed: 0</th>\n",
       "      <th>tweet</th>\n",
       "      <th>label</th>\n",
       "    </tr>\n",
       "  </thead>\n",
       "  <tbody>\n",
       "    <tr>\n",
       "      <th>0</th>\n",
       "      <td>0</td>\n",
       "      <td>I love how idiotic baboons, just saw one eat t...</td>\n",
       "      <td>0</td>\n",
       "    </tr>\n",
       "    <tr>\n",
       "      <th>1</th>\n",
       "      <td>1</td>\n",
       "      <td>We all know that toddlers are not allowed to b...</td>\n",
       "      <td>0</td>\n",
       "    </tr>\n",
       "    <tr>\n",
       "      <th>2</th>\n",
       "      <td>2</td>\n",
       "      <td>@user your comments about  mrs. obama are offe...</td>\n",
       "      <td>1</td>\n",
       "    </tr>\n",
       "    <tr>\n",
       "      <th>3</th>\n",
       "      <td>3</td>\n",
       "      <td>Violence outbursts, homosexuals died. Nothing ...</td>\n",
       "      <td>1</td>\n",
       "    </tr>\n",
       "    <tr>\n",
       "      <th>4</th>\n",
       "      <td>4</td>\n",
       "      <td>@user speechless when it comes to all the sho...</td>\n",
       "      <td>0</td>\n",
       "    </tr>\n",
       "    <tr>\n",
       "      <th>5</th>\n",
       "      <td>5</td>\n",
       "      <td>fuck the immigration support from UKBA- they'r...</td>\n",
       "      <td>0</td>\n",
       "    </tr>\n",
       "    <tr>\n",
       "      <th>6</th>\n",
       "      <td>6</td>\n",
       "      <td>@user this summer is about to be crazy. i can...</td>\n",
       "      <td>0</td>\n",
       "    </tr>\n",
       "    <tr>\n",
       "      <th>7</th>\n",
       "      <td>7</td>\n",
       "      <td>This government is a disaster I wish it would die</td>\n",
       "      <td>0</td>\n",
       "    </tr>\n",
       "    <tr>\n",
       "      <th>8</th>\n",
       "      <td>8</td>\n",
       "      <td>she is breastfeeding and this is awful for her...</td>\n",
       "      <td>1</td>\n",
       "    </tr>\n",
       "    <tr>\n",
       "      <th>9</th>\n",
       "      <td>9</td>\n",
       "      <td>The woman is a lazy mess. Her and the husband ...</td>\n",
       "      <td>0</td>\n",
       "    </tr>\n",
       "  </tbody>\n",
       "</table>\n",
       "</div>"
      ],
      "text/plain": [
       "   Unnamed: 0                                              tweet  label\n",
       "0           0  I love how idiotic baboons, just saw one eat t...      0\n",
       "1           1  We all know that toddlers are not allowed to b...      0\n",
       "2           2  @user your comments about  mrs. obama are offe...      1\n",
       "3           3  Violence outbursts, homosexuals died. Nothing ...      1\n",
       "4           4   @user speechless when it comes to all the sho...      0\n",
       "5           5  fuck the immigration support from UKBA- they'r...      0\n",
       "6           6   @user this summer is about to be crazy. i can...      0\n",
       "7           7  This government is a disaster I wish it would die      0\n",
       "8           8  she is breastfeeding and this is awful for her...      1\n",
       "9           9  The woman is a lazy mess. Her and the husband ...      0"
      ]
     },
     "execution_count": 5,
     "metadata": {},
     "output_type": "execute_result"
    }
   ],
   "source": [
    "raw_tweets.head(10)"
   ]
  },
  {
   "cell_type": "code",
   "execution_count": 6,
   "id": "67472cd3",
   "metadata": {},
   "outputs": [
    {
     "data": {
      "text/plain": [
       "28000"
      ]
     },
     "execution_count": 6,
     "metadata": {},
     "output_type": "execute_result"
    }
   ],
   "source": [
    "len(raw_tweets)"
   ]
  },
  {
   "cell_type": "code",
   "execution_count": 7,
   "id": "3b486227",
   "metadata": {},
   "outputs": [
    {
     "data": {
      "text/plain": [
       "0    14009\n",
       "1    13991\n",
       "Name: label, dtype: int64"
      ]
     },
     "execution_count": 7,
     "metadata": {},
     "output_type": "execute_result"
    }
   ],
   "source": [
    "sentiment = raw_tweets['label'].value_counts()\n",
    "sentiment"
   ]
  },
  {
   "cell_type": "code",
   "execution_count": 8,
   "id": "9127f433",
   "metadata": {},
   "outputs": [
    {
     "data": {
      "image/png": "[encoded data removed]",
      "text/plain": [
       "<Figure size 432x288 with 1 Axes>"
      ]
     },
     "metadata": {},
     "output_type": "display_data"
    }
   ],
   "source": [
    "plt.pie(sentiment,labels=[\"hateful tweets\", \"non-hateful tweets\"], autopct=\"%1.1f%%\", shadow=True, startangle=140);\n",
    "plt.show();"
   ]
  },
  {
   "cell_type": "code",
   "execution_count": 9,
   "id": "1eb1144d",
   "metadata": {},
   "outputs": [
    {
     "name": "stdout",
     "output_type": "stream",
     "text": [
      "neutral tweets: 14009\n",
      "hateful tweets: 13991\n"
     ]
    }
   ],
   "source": [
    "print(f'neutral tweets: {raw_tweets[raw_tweets.label==0].count()[0]}')\n",
    "print(f'hateful tweets: {raw_tweets[raw_tweets.label==1].count()[0]}')"
   ]
  },
  {
   "cell_type": "code",
   "execution_count": 10,
   "id": "e7c83949",
   "metadata": {},
   "outputs": [
    {
     "data": {
      "image/png": "[encoded data removed]",
      "text/plain": [
       "<Figure size 432x288 with 1 Axes>"
      ]
     },
     "metadata": {
      "needs_background": "light"
     },
     "output_type": "display_data"
    }
   ],
   "source": [
    "hate_tweets = raw_tweets[raw_tweets['label']==1]\n",
    "hate_text = \"\".join(hate_tweet.lower() for hate_tweet in hate_tweets['tweet'])\n",
    "wordcloud = WordCloud().generate(hate_text)\n",
    "\n",
    "plt.imshow(wordcloud, interpolation='bilinear')\n",
    "plt.axis(\"off\")\n",
    "plt.show()"
   ]
  },
  {
   "cell_type": "markdown",
   "id": "9d638c53",
   "metadata": {},
   "source": [
    "##### Remove RT (re-tweet) text from tweet if exists"
   ]
  },
  {
   "cell_type": "code",
   "execution_count": 11,
   "id": "be4c291a",
   "metadata": {},
   "outputs": [],
   "source": [
    "def remove_retweet(tweet):\n",
    "    tweet = re.sub('RT\\s+', '', tweet)\n",
    "    return tweet   "
   ]
  },
  {
   "cell_type": "markdown",
   "id": "af50498a",
   "metadata": {},
   "source": [
    "Remove numbers from tweets"
   ]
  },
  {
   "cell_type": "code",
   "execution_count": 12,
   "id": "9751821a",
   "metadata": {},
   "outputs": [],
   "source": [
    "def remove_numbers(tweet):\n",
    "    return  re.sub(r'[0-9]+', '',tweet)"
   ]
  },
  {
   "cell_type": "markdown",
   "id": "8058bf51",
   "metadata": {},
   "source": [
    "Remove greek characters"
   ]
  },
  {
   "cell_type": "code",
   "execution_count": 13,
   "id": "f1128a4a",
   "metadata": {},
   "outputs": [],
   "source": [
    "def remove_greek(tweet):\n",
    "    return unidecode.unidecode(tweet)"
   ]
  },
  {
   "cell_type": "markdown",
   "id": "17098fda",
   "metadata": {},
   "source": [
    "##### Remove user tag @user"
   ]
  },
  {
   "cell_type": "code",
   "execution_count": 14,
   "id": "2d5fcb5d",
   "metadata": {},
   "outputs": [],
   "source": [
    "def remove_user_tag(tweet):\n",
    "    tweet = re.sub('\\B@\\w+', '', tweet)\n",
    "    return tweet "
   ]
  },
  {
   "cell_type": "markdown",
   "id": "f919eeaa",
   "metadata": {},
   "source": [
    "##### Decode emojis if any"
   ]
  },
  {
   "cell_type": "code",
   "execution_count": 15,
   "id": "a4f0c6f9",
   "metadata": {},
   "outputs": [],
   "source": [
    "def decode_emoji(tweet):\n",
    "    tweet = emoji.demojize(tweet)\n",
    "    return tweet"
   ]
  },
  {
   "cell_type": "markdown",
   "id": "89a062e9",
   "metadata": {},
   "source": [
    "##### Remove URL"
   ]
  },
  {
   "cell_type": "code",
   "execution_count": 16,
   "id": "317bf09b",
   "metadata": {},
   "outputs": [],
   "source": [
    "def remove_url(tweet):\n",
    "    tweet = re.sub('(http|https):\\/\\/\\S+', '', tweet)\n",
    "    return tweet "
   ]
  },
  {
   "cell_type": "markdown",
   "id": "811d5848",
   "metadata": {},
   "source": [
    "##### Remove hashtags"
   ]
  },
  {
   "cell_type": "code",
   "execution_count": 17,
   "id": "6a6652b2",
   "metadata": {},
   "outputs": [],
   "source": [
    "def remove_hashtag(tweet):\n",
    "    tweet = re.sub(r'#+', '', tweet)\n",
    "    return tweet "
   ]
  },
  {
   "cell_type": "markdown",
   "id": "f499a942",
   "metadata": {},
   "source": [
    "##### Handling word features"
   ]
  },
  {
   "cell_type": "code",
   "execution_count": 18,
   "id": "aaefaafa",
   "metadata": {},
   "outputs": [],
   "source": [
    "# Change all words to lowercase\n",
    "\n",
    "def to_lowercase(tweet):\n",
    "    tweet = tweet.lower()\n",
    "    return tweet"
   ]
  },
  {
   "cell_type": "code",
   "execution_count": 19,
   "id": "6bda289e",
   "metadata": {},
   "outputs": [],
   "source": [
    "# Remove special characters\n",
    "\n",
    "def remove_special_char(tweet):\n",
    "    tweet = re.sub(r'[^A-Za-z]+\\s?', ' ', tweet)\n",
    "    return tweet"
   ]
  },
  {
   "cell_type": "code",
   "execution_count": 20,
   "id": "21cac45f",
   "metadata": {},
   "outputs": [],
   "source": [
    "# Remove words with two or less characters\n",
    "\n",
    "def remove_short_char(tweet):\n",
    "    tweet = re.sub(r'\\b\\w{1,2}\\b', ' ', tweet)\n",
    "    return tweet"
   ]
  },
  {
   "cell_type": "markdown",
   "id": "8bc63cad",
   "metadata": {},
   "source": [
    "##### Word contractions"
   ]
  },
  {
   "cell_type": "code",
   "execution_count": 21,
   "id": "c21df32e",
   "metadata": {},
   "outputs": [],
   "source": [
    "def contraction_expand(tweet):\n",
    "    tweet = contractions.fix(tweet)\n",
    "    return tweet"
   ]
  },
  {
   "cell_type": "markdown",
   "id": "b9b74352",
   "metadata": {},
   "source": [
    "##### Checking for stop words"
   ]
  },
  {
   "cell_type": "code",
   "execution_count": 22,
   "id": "aa13b4b2",
   "metadata": {},
   "outputs": [],
   "source": [
    "stop_words = set(nltk.corpus.stopwords.words('english'))"
   ]
  },
  {
   "cell_type": "code",
   "execution_count": 23,
   "id": "ce628fd3",
   "metadata": {},
   "outputs": [],
   "source": [
    "def tokenize_tweet(tweet):\n",
    "  \n",
    "  token_list = word_tokenize(tweet)\n",
    "  stopwords = nltk.corpus.stopwords.words('english')\n",
    "\n",
    "  # adding twitter specific stop words  \n",
    "  new_stopwords = [\"amp\", \"sm1\", 'smh', 'idk', 'idc', 'lol', 'lmao', 'btw', 'fml', 'fyi', 'ftw', 'ftl', 'icymi', 'mtf'\n",
    "                  ,'tbh', 'tbt', 'wtv', 'might', 'new']\n",
    "  stopwords.extend(new_stopwords)\n",
    "  token_list = [token for token in token_list if not token in stopwords]\n",
    "\n",
    "  return token_list"
   ]
  },
  {
   "cell_type": "markdown",
   "id": "da3663ea",
   "metadata": {},
   "source": [
    "##### Lemmatization"
   ]
  },
  {
   "cell_type": "code",
   "execution_count": 24,
   "id": "85cd2759",
   "metadata": {},
   "outputs": [],
   "source": [
    "def lemmatize_tweets(tokens,lemmatizer):\n",
    "  token_list = []\n",
    "  for token in tokens:\n",
    "    token_list.append(lemmatizer.lemmatize(token))\n",
    "  return token_list"
   ]
  },
  {
   "cell_type": "markdown",
   "id": "e5025f89",
   "metadata": {},
   "source": [
    "##### Tweet pre-processing"
   ]
  },
  {
   "cell_type": "code",
   "execution_count": 25,
   "id": "80e8d119",
   "metadata": {},
   "outputs": [],
   "source": [
    "def preprocess_tweet(tweet):\n",
    "  \n",
    "  # Cleaning tweets\n",
    "  tweet = remove_retweet(tweet) \n",
    "  tweet=remove_numbers(tweet)\n",
    "  tweet=remove_greek(tweet)\n",
    "  tweet = remove_user_tag(tweet)\n",
    "  tweet = remove_url(tweet)\n",
    "  tweet = remove_hashtag(tweet)  \n",
    "  tweet = decode_emoji(tweet)\n",
    "  \n",
    "  # Handling word-features\n",
    "  tweet = to_lowercase(tweet)\n",
    "  tweet = contraction_expand(tweet) \n",
    "  tweet = remove_special_char(tweet)\n",
    "  tweet = remove_short_char(tweet)  \n",
    "  \n",
    "  # Tokenizing & Lemmatizing\n",
    "  tokens = tokenize_tweet(tweet) \n",
    "  tweet_lemmatizer = WordNetLemmatizer();\n",
    "  lemma = lemmatize_tweets(tokens, tweet_lemmatizer) \n",
    "    \n",
    "  return lemma"
   ]
  },
  {
   "cell_type": "code",
   "execution_count": 26,
   "id": "bddb2b2e",
   "metadata": {},
   "outputs": [],
   "source": [
    "raw_tweets[\"tokens\"] = raw_tweets[\"tweet\"].apply(preprocess_tweet) "
   ]
  },
  {
   "cell_type": "code",
   "execution_count": 27,
   "id": "f49ae4ed",
   "metadata": {},
   "outputs": [],
   "source": [
    "def clean_tweets(tokenlist):\n",
    "     return ' '.join(tokenlist)\n",
    "    "
   ]
  },
  {
   "cell_type": "code",
   "execution_count": 28,
   "id": "6fe35a44",
   "metadata": {},
   "outputs": [],
   "source": [
    "raw_tweets['clean_tweet']=raw_tweets[\"tokens\"].apply(clean_tweets)"
   ]
  },
  {
   "cell_type": "code",
   "execution_count": 29,
   "id": "972ce63e",
   "metadata": {},
   "outputs": [
    {
     "data": {
      "text/html": [
       "<div>\n",
       "<style scoped>\n",
       "    .dataframe tbody tr th:only-of-type {\n",
       "        vertical-align: middle;\n",
       "    }\n",
       "\n",
       "    .dataframe tbody tr th {\n",
       "        vertical-align: top;\n",
       "    }\n",
       "\n",
       "    .dataframe thead th {\n",
       "        text-align: right;\n",
       "    }\n",
       "</style>\n",
       "<table border=\"1\" class=\"dataframe\">\n",
       "  <thead>\n",
       "    <tr style=\"text-align: right;\">\n",
       "      <th></th>\n",
       "      <th>Unnamed: 0</th>\n",
       "      <th>tweet</th>\n",
       "      <th>label</th>\n",
       "      <th>tokens</th>\n",
       "      <th>clean_tweet</th>\n",
       "    </tr>\n",
       "  </thead>\n",
       "  <tbody>\n",
       "    <tr>\n",
       "      <th>0</th>\n",
       "      <td>0</td>\n",
       "      <td>I love how idiotic baboons, just saw one eat t...</td>\n",
       "      <td>0</td>\n",
       "      <td>[love, idiotic, baboon, saw, one, eat, sick]</td>\n",
       "      <td>love idiotic baboon saw one eat sick</td>\n",
       "    </tr>\n",
       "    <tr>\n",
       "      <th>1</th>\n",
       "      <td>1</td>\n",
       "      <td>We all know that toddlers are not allowed to b...</td>\n",
       "      <td>0</td>\n",
       "      <td>[know, toddler, allowed, accountable, action, ...</td>\n",
       "      <td>know toddler allowed accountable action parent...</td>\n",
       "    </tr>\n",
       "    <tr>\n",
       "      <th>2</th>\n",
       "      <td>2</td>\n",
       "      <td>@user your comments about  mrs. obama are offe...</td>\n",
       "      <td>1</td>\n",
       "      <td>[comment, mr, obama, offensive, fuher, confirm...</td>\n",
       "      <td>comment mr obama offensive fuher confirm racis...</td>\n",
       "    </tr>\n",
       "    <tr>\n",
       "      <th>3</th>\n",
       "      <td>3</td>\n",
       "      <td>Violence outbursts, homosexuals died. Nothing ...</td>\n",
       "      <td>1</td>\n",
       "      <td>[violence, outburst, homosexual, died, nothing...</td>\n",
       "      <td>violence outburst homosexual died nothing valu...</td>\n",
       "    </tr>\n",
       "    <tr>\n",
       "      <th>4</th>\n",
       "      <td>4</td>\n",
       "      <td>@user speechless when it comes to all the sho...</td>\n",
       "      <td>0</td>\n",
       "      <td>[speechless, come, shooting, recently, guess, ...</td>\n",
       "      <td>speechless come shooting recently guess people...</td>\n",
       "    </tr>\n",
       "    <tr>\n",
       "      <th>5</th>\n",
       "      <td>5</td>\n",
       "      <td>fuck the immigration support from UKBA- they'r...</td>\n",
       "      <td>0</td>\n",
       "      <td>[fuck, immigration, support, ukba, useless]</td>\n",
       "      <td>fuck immigration support ukba useless</td>\n",
       "    </tr>\n",
       "    <tr>\n",
       "      <th>6</th>\n",
       "      <td>6</td>\n",
       "      <td>@user this summer is about to be crazy. i can...</td>\n",
       "      <td>0</td>\n",
       "      <td>[summer, crazy, already, tell, going, stay, wa...</td>\n",
       "      <td>summer crazy already tell going stay way show ...</td>\n",
       "    </tr>\n",
       "    <tr>\n",
       "      <th>7</th>\n",
       "      <td>7</td>\n",
       "      <td>This government is a disaster I wish it would die</td>\n",
       "      <td>0</td>\n",
       "      <td>[government, disaster, wish, would, die]</td>\n",
       "      <td>government disaster wish would die</td>\n",
       "    </tr>\n",
       "    <tr>\n",
       "      <th>8</th>\n",
       "      <td>8</td>\n",
       "      <td>she is breastfeeding and this is awful for her...</td>\n",
       "      <td>1</td>\n",
       "      <td>[breastfeeding, awful, health, well, woman, de...</td>\n",
       "      <td>breastfeeding awful health well woman deserves...</td>\n",
       "    </tr>\n",
       "    <tr>\n",
       "      <th>9</th>\n",
       "      <td>9</td>\n",
       "      <td>The woman is a lazy mess. Her and the husband ...</td>\n",
       "      <td>0</td>\n",
       "      <td>[woman, lazy, mess, husband, tit, drink, regul...</td>\n",
       "      <td>woman lazy mess husband tit drink regular basi...</td>\n",
       "    </tr>\n",
       "  </tbody>\n",
       "</table>\n",
       "</div>"
      ],
      "text/plain": [
       "   Unnamed: 0                                              tweet  label  \\\n",
       "0           0  I love how idiotic baboons, just saw one eat t...      0   \n",
       "1           1  We all know that toddlers are not allowed to b...      0   \n",
       "2           2  @user your comments about  mrs. obama are offe...      1   \n",
       "3           3  Violence outbursts, homosexuals died. Nothing ...      1   \n",
       "4           4   @user speechless when it comes to all the sho...      0   \n",
       "5           5  fuck the immigration support from UKBA- they'r...      0   \n",
       "6           6   @user this summer is about to be crazy. i can...      0   \n",
       "7           7  This government is a disaster I wish it would die      0   \n",
       "8           8  she is breastfeeding and this is awful for her...      1   \n",
       "9           9  The woman is a lazy mess. Her and the husband ...      0   \n",
       "\n",
       "                                              tokens  \\\n",
       "0       [love, idiotic, baboon, saw, one, eat, sick]   \n",
       "1  [know, toddler, allowed, accountable, action, ...   \n",
       "2  [comment, mr, obama, offensive, fuher, confirm...   \n",
       "3  [violence, outburst, homosexual, died, nothing...   \n",
       "4  [speechless, come, shooting, recently, guess, ...   \n",
       "5        [fuck, immigration, support, ukba, useless]   \n",
       "6  [summer, crazy, already, tell, going, stay, wa...   \n",
       "7           [government, disaster, wish, would, die]   \n",
       "8  [breastfeeding, awful, health, well, woman, de...   \n",
       "9  [woman, lazy, mess, husband, tit, drink, regul...   \n",
       "\n",
       "                                         clean_tweet  \n",
       "0               love idiotic baboon saw one eat sick  \n",
       "1  know toddler allowed accountable action parent...  \n",
       "2  comment mr obama offensive fuher confirm racis...  \n",
       "3  violence outburst homosexual died nothing valu...  \n",
       "4  speechless come shooting recently guess people...  \n",
       "5              fuck immigration support ukba useless  \n",
       "6  summer crazy already tell going stay way show ...  \n",
       "7                 government disaster wish would die  \n",
       "8  breastfeeding awful health well woman deserves...  \n",
       "9  woman lazy mess husband tit drink regular basi...  "
      ]
     },
     "execution_count": 29,
     "metadata": {},
     "output_type": "execute_result"
    }
   ],
   "source": [
    "clean_tweets=raw_tweets\n",
    "clean_tweets.head(10)"
   ]
  },
  {
   "cell_type": "markdown",
   "id": "b0fb16e5",
   "metadata": {},
   "source": [
    "### Text vectorization"
   ]
  },
  {
   "cell_type": "markdown",
   "id": "08b19416",
   "metadata": {},
   "source": [
    "Term Frequency | Inverse Document Frequency Vectorizer"
   ]
  },
  {
   "cell_type": "code",
   "execution_count": 30,
   "id": "b094afbe",
   "metadata": {},
   "outputs": [],
   "source": [
    "from sklearn.feature_extraction.text import TfidfVectorizer"
   ]
  },
  {
   "cell_type": "code",
   "execution_count": 53,
   "id": "0cb2ec2c",
   "metadata": {},
   "outputs": [],
   "source": [
    "#Y is the outcome and X the input tweets for training\n",
    "X=clean_tweets['clean_tweet']\n",
    "Y=clean_tweets['label']"
   ]
  },
  {
   "cell_type": "code",
   "execution_count": null,
   "id": "5d21c645",
   "metadata": {},
   "outputs": [],
   "source": [
    "td = TfidfVectorizer(max_features = 6000)\n",
    "X = td.fit_transform(X).toarray()"
   ]
  },
  {
   "cell_type": "markdown",
   "id": "eb2f4ce9",
   "metadata": {},
   "source": [
    "### MODEL ALGORITHM"
   ]
  },
  {
   "cell_type": "markdown",
   "id": "bb4ada6d",
   "metadata": {},
   "source": [
    "<b> Splitting the tweets into training and testing set:\n"
   ]
  },
  {
   "cell_type": "code",
   "execution_count": 33,
   "id": "49c79275",
   "metadata": {},
   "outputs": [],
   "source": [
    "from sklearn.model_selection import train_test_split\n",
    "x_train, x_test, y_train, y_test = train_test_split(X, Y, test_size = 0.30, random_state =1)"
   ]
  },
  {
   "cell_type": "code",
   "execution_count": 34,
   "id": "f493d1b7",
   "metadata": {},
   "outputs": [
    {
     "data": {
      "text/plain": [
       "((19600, 6000), (8400, 6000))"
      ]
     },
     "execution_count": 34,
     "metadata": {},
     "output_type": "execute_result"
    }
   ],
   "source": [
    "x_train.shape, x_test.shape"
   ]
  },
  {
   "cell_type": "code",
   "execution_count": 35,
   "id": "8c221c4c",
   "metadata": {},
   "outputs": [
    {
     "data": {
      "text/plain": [
       "((19600,), (8400,))"
      ]
     },
     "execution_count": 35,
     "metadata": {},
     "output_type": "execute_result"
    }
   ],
   "source": [
    "y_train.shape, y_test.shape"
   ]
  },
  {
   "cell_type": "markdown",
   "id": "1230cf9d",
   "metadata": {},
   "source": [
    "<b> Using Naive Bayes Model Algorithm"
   ]
  },
  {
   "cell_type": "code",
   "execution_count": 48,
   "id": "e4e1a14c",
   "metadata": {},
   "outputs": [
    {
     "data": {
      "text/plain": [
       "0.7716836734693877"
      ]
     },
     "execution_count": 48,
     "metadata": {},
     "output_type": "execute_result"
    }
   ],
   "source": [
    "from sklearn.naive_bayes import MultinomialNB\n",
    "NB_clf = MultinomialNB()\n",
    "NB_clf.fit(x_train, y_train)    #fitting the datasets\n",
    "tweet_predicted = NB_clf.predict(x_test) #predicting result\n",
    "train_accuracy = NB_clf.predict(x_train)\n",
    "train_acc = accuracy_score(y_train, train_accuracy)\n",
    "train_acc"
   ]
  },
  {
   "cell_type": "markdown",
   "id": "b73b2316",
   "metadata": {},
   "source": [
    "<b> Creating Confusion matrix and checking performance: "
   ]
  },
  {
   "cell_type": "code",
   "execution_count": 42,
   "id": "37b41d6c",
   "metadata": {},
   "outputs": [],
   "source": [
    "import seaborn as sns"
   ]
  },
  {
   "cell_type": "code",
   "execution_count": 46,
   "id": "951ff0b1",
   "metadata": {},
   "outputs": [
    {
     "name": "stdout",
     "output_type": "stream",
     "text": [
      "[[2775 1425]\n",
      " [1329 2871]]\n"
     ]
    },
    {
     "data": {
      "text/plain": [
       "<AxesSubplot:>"
      ]
     },
     "execution_count": 46,
     "metadata": {},
     "output_type": "execute_result"
    },
    {
     "data": {
      "image/png": "[encoded data removed]",
      "text/plain": [
       "<Figure size 432x288 with 2 Axes>"
      ]
     },
     "metadata": {
      "needs_background": "light"
     },
     "output_type": "display_data"
    }
   ],
   "source": [
    "cm = confusion_matrix(y_test, tweet_predicted)\n",
    "print(cm)\n",
    "sns.heatmap(cm, annot = True)\n"
   ]
  },
  {
   "cell_type": "code",
   "execution_count": 43,
   "id": "07c15a10",
   "metadata": {},
   "outputs": [
    {
     "name": "stdout",
     "output_type": "stream",
     "text": [
      "              precision    recall  f1-score   support\n",
      "\n",
      "           0       0.68      0.66      0.67      4200\n",
      "           1       0.67      0.68      0.68      4200\n",
      "\n",
      "    accuracy                           0.67      8400\n",
      "   macro avg       0.67      0.67      0.67      8400\n",
      "weighted avg       0.67      0.67      0.67      8400\n",
      "\n"
     ]
    }
   ],
   "source": [
    "print(classification_report(y_test, tweet_predicted))"
   ]
  },
  {
   "cell_type": "code",
   "execution_count": null,
   "id": "94900bfc",
   "metadata": {},
   "outputs": [],
   "source": []
  }
 ],
 "metadata": {
  "kernelspec": {
   "display_name": "Python 3 (ipykernel)",
   "language": "python",
   "name": "python3"
  },
  "language_info": {
   "codemirror_mode": {
    "name": "ipython",
    "version": 3
   },
   "file_extension": ".py",
   "mimetype": "text/x-python",
   "name": "python",
   "nbconvert_exporter": "python",
   "pygments_lexer": "ipython3",
   "version": "3.9.5"
  }
 },
 "nbformat": 4,
 "nbformat_minor": 5
}
